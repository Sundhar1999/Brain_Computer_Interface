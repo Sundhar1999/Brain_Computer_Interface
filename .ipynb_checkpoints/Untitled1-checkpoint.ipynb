{
 "cells": [
  {
   "cell_type": "code",
   "execution_count": 1,
   "id": "2f1607ed-83c4-41d8-9c09-362820b54b4e",
   "metadata": {},
   "outputs": [
    {
     "name": "stdout",
     "output_type": "stream",
     "text": [
      "The shape of Dataset_1: (259520, 65)\n"
     ]
    },
    {
     "data": {
      "text/plain": [
       "array([[-16, -29,   2, ..., -11,  15,   0],\n",
       "       [-56, -54, -27, ...,   1,  21,   0],\n",
       "       [-55, -55, -29, ...,  18,  35,   0],\n",
       "       ...,\n",
       "       [  0,   0,   0, ...,   0,   0,   9],\n",
       "       [  0,   0,   0, ...,   0,   0,   9],\n",
       "       [  0,   0,   0, ...,   0,   0,   9]], dtype=int64)"
      ]
     },
     "execution_count": 1,
     "metadata": {},
     "output_type": "execute_result"
    }
   ],
   "source": [
    "import numpy as np\n",
    "dataset_1=np.load('1.npy')\n",
    "print('The shape of Dataset_1:', dataset_1.shape)\n",
    "dataset_1"
   ]
  },
  {
   "cell_type": "code",
   "execution_count": 3,
   "id": "d6ba604f-932c-4e84-aca7-a6efa1257049",
   "metadata": {},
   "outputs": [],
   "source": [
    "import numpy as np\n",
    "from sklearn.model_selection import train_test_split\n",
    "from sklearn.preprocessing import StandardScaler\n",
    "import time\n",
    "import torch\n",
    "import torch.nn as nn\n",
    "import torch.utils.data as Data\n",
    "import torch.nn.functional as F\n",
    "from sklearn.metrics import roc_auc_score, accuracy_score, precision_score, recall_score, f1_score, classification_report\n"
   ]
  },
  {
   "cell_type": "code",
   "execution_count": 4,
   "id": "1220609b-1837-4458-8889-166236ff90be",
   "metadata": {},
   "outputs": [
    {
     "name": "stdout",
     "output_type": "stream",
     "text": [
      "dataset_1 shape: (259520, 65)\n"
     ]
    }
   ],
   "source": [
    "# load dataset\n",
    "dataset_1 = np.load('1.npy')\n",
    "print('dataset_1 shape:', dataset_1.shape)\n"
   ]
  },
  {
   "cell_type": "code",
   "execution_count": 5,
   "id": "91808868-11a4-4204-a1b3-c6e12c68347b",
   "metadata": {},
   "outputs": [
    {
     "name": "stdout",
     "output_type": "stream",
     "text": [
      "We are using cpu now.\n"
     ]
    }
   ],
   "source": [
    "# check if a GPU is available\n",
    "with_gpu = torch.cuda.is_available()\n",
    "if with_gpu:\n",
    "    device = torch.device(\"cuda\")\n",
    "else:\n",
    "    device = torch.device(\"cpu\")\n",
    "print('We are using %s now.' %device)\n",
    "\n",
    "# remove instance with label==10 (rest)\n",
    "removed_label = [2,3,4,5,6,7,8,9,10]  #2,3,4,5,\n",
    "for ll in removed_label:\n",
    "    id = dataset_1[:, -1]!=ll\n",
    "    dataset_1 = dataset_1[id]"
   ]
  },
  {
   "cell_type": "code",
   "execution_count": 6,
   "id": "b172be37-ae6a-4d33-9a21-e6d4d25e8879",
   "metadata": {},
   "outputs": [
    {
     "name": "stdout",
     "output_type": "stream",
     "text": [
      "After segmentation, the shape of the data: (2440, 1025)\n"
     ]
    }
   ],
   "source": [
    "def one_hot(y_):\n",
    "    # Function to encode output labels from number indexes\n",
    "    # e.g.: [[5], [0], [3]] --> [[0, 0, 0, 0, 0, 1], [1, 0, 0, 0, 0, 0], [0, 0, 0, 1, 0, 0]]\n",
    "    y_ = y_.reshape(len(y_))\n",
    "    y_ = [int(xx) for xx in y_]\n",
    "    n_values = np.max(y_) + 1\n",
    "    return np.eye(n_values)[np.array(y_, dtype=np.int32)]\n",
    "\n",
    "# data segmentation\n",
    "n_class = int(11-len(removed_label))  # 0~9 classes ('10:rest' is not considered)\n",
    "no_feature = 64  # the number of the features\n",
    "segment_length = 16  # selected time window; 16=160*0.1\n",
    "LR = 0.005  # learning rate\n",
    "EPOCH = 101\n",
    "n_hidden = 128  # number of neurons in hidden layer\n",
    "l2 = 0.01  # the coefficient of l2-norm regularization\n",
    "\n",
    "def extract(input, n_classes, n_fea, time_window, moving):\n",
    "    xx = input[:, :n_fea]\n",
    "    yy = input[:, n_fea:n_fea + 1]\n",
    "    new_x = []\n",
    "    new_y = []\n",
    "    number = int((xx.shape[0] / moving) - 1)\n",
    "    for i in range(number):\n",
    "        ave_y = np.average(yy[int(i * moving):int(i * moving + time_window)])\n",
    "        if ave_y in range(n_classes + 1):\n",
    "            new_x.append(xx[int(i * moving):int(i * moving + time_window), :])\n",
    "            new_y.append(ave_y)\n",
    "        else:\n",
    "            new_x.append(xx[int(i * moving):int(i * moving + time_window), :])\n",
    "            new_y.append(0)\n",
    "\n",
    "    new_x = np.array(new_x)\n",
    "    new_x = new_x.reshape([-1, n_fea * time_window])\n",
    "    new_y = np.array(new_y)\n",
    "    new_y.shape = [new_y.shape[0], 1]\n",
    "    data = np.hstack((new_x, new_y))\n",
    "    data = np.vstack((data, data[-1]))  # add the last sample again, to make the sample number round\n",
    "    return data\n",
    "\n",
    "data_seg = extract(dataset_1, n_classes=n_class, n_fea=no_feature, time_window=segment_length, moving=(segment_length/2))  # 50% overlapping\n",
    "print('After segmentation, the shape of the data:', data_seg.shape)"
   ]
  },
  {
   "cell_type": "code",
   "execution_count": 7,
   "id": "22647777-0da4-46c7-865b-d0b85829a2a4",
   "metadata": {},
   "outputs": [],
   "source": [
    "# split training and test data\n",
    "no_longfeature = no_feature*segment_length\n",
    "data_seg_feature = data_seg[:, :no_longfeature]\n",
    "data_seg_label = data_seg[:, no_longfeature:no_longfeature+1]\n",
    "train_feature, test_feature, train_label, test_label = train_test_split(data_seg_feature, data_seg_label,test_size=0.2, shuffle=True)"
   ]
  },
  {
   "cell_type": "code",
   "execution_count": 8,
   "id": "3197c54c-67f6-4ad1-b70a-cbc5d933d1aa",
   "metadata": {},
   "outputs": [
    {
     "name": "stdout",
     "output_type": "stream",
     "text": [
      "After normalization, the shape of training feature: (31232, 64) \n",
      "After normalization, the shape of test feature: (7808, 64)\n",
      "After reshape, the shape of training feature: (1952, 16, 64) \n",
      "After reshape, the shape of test feature: (488, 16, 64)\n"
     ]
    }
   ],
   "source": [
    "# normalization\n",
    "# before normalize reshape data back to raw data shape\n",
    "train_feature_2d = train_feature.reshape([-1, no_feature])\n",
    "test_feature_2d = test_feature.reshape([-1, no_feature])\n",
    "\n",
    "scaler1 = StandardScaler().fit(train_feature_2d)\n",
    "train_fea_norm1 = scaler1.transform(train_feature_2d) # normalize the training data\n",
    "test_fea_norm1 = scaler1.transform(test_feature_2d) # normalize the test data\n",
    "print('After normalization, the shape of training feature:', train_fea_norm1.shape,\n",
    "      '\\nAfter normalization, the shape of test feature:', test_fea_norm1.shape)\n",
    "\n",
    "# after normalization, reshape data to 3d in order to feed in to LSTM\n",
    "train_fea_norm1 = train_fea_norm1.reshape([-1, segment_length, no_feature])\n",
    "test_fea_norm1 = test_fea_norm1.reshape([-1, segment_length, no_feature])\n",
    "print('After reshape, the shape of training feature:', train_fea_norm1.shape,\n",
    "      '\\nAfter reshape, the shape of test feature:', test_fea_norm1.shape)\n",
    "\n",
    "BATCH_size = test_fea_norm1.shape[0] # use test_data as batch size"
   ]
  },
  {
   "cell_type": "code",
   "execution_count": 9,
   "id": "44bce299-659c-4ce4-8f4c-e30ce8a9d2f8",
   "metadata": {},
   "outputs": [],
   "source": [
    "# feed data into dataloader\n",
    "train_fea_norm1 = torch.tensor(train_fea_norm1)\n",
    "train_fea_norm1 = torch.unsqueeze(train_fea_norm1, dim=1).type('torch.FloatTensor').to(device)\n",
    "# print(train_fea_norm1.shape)\n",
    "train_label = torch.tensor(train_label.flatten()).to(device)\n",
    "train_data = Data.TensorDataset(train_fea_norm1, train_label)\n",
    "train_loader = Data.DataLoader(dataset=train_data, batch_size=BATCH_size, shuffle=False)\n",
    "\n",
    "test_fea_norm1 = torch.tensor(test_fea_norm1)\n",
    "test_fea_norm1 = torch.unsqueeze(test_fea_norm1, dim=1).type('torch.FloatTensor').to(device)\n",
    "test_label = torch.tensor(test_label.flatten()).to(device)"
   ]
  },
  {
   "cell_type": "code",
   "execution_count": 10,
   "id": "448a3109-7e15-485d-80a6-c374d257dcbb",
   "metadata": {},
   "outputs": [
    {
     "name": "stdout",
     "output_type": "stream",
     "text": [
      "CNN(\n",
      "  (conv1): Sequential(\n",
      "    (0): Conv2d(1, 16, kernel_size=(2, 4), stride=(1, 1), padding=(1, 2))\n",
      "    (1): ReLU()\n",
      "    (2): MaxPool2d(kernel_size=(2, 4), stride=(2, 4), padding=0, dilation=1, ceil_mode=False)\n",
      "  )\n",
      "  (conv2): Sequential(\n",
      "    (0): Conv2d(16, 32, kernel_size=(2, 2), stride=(1, 1), padding=(1, 1))\n",
      "    (1): ReLU()\n",
      "    (2): MaxPool2d(kernel_size=(2, 2), stride=(2, 2), padding=0, dilation=1, ceil_mode=False)\n",
      "  )\n",
      "  (fc): Linear(in_features=1024, out_features=128, bias=True)\n",
      "  (out): Linear(in_features=128, out_features=2, bias=True)\n",
      ")\n"
     ]
    }
   ],
   "source": [
    "class CNN(nn.Module):\n",
    "    def __init__(self):\n",
    "        super(CNN, self).__init__()\n",
    "        self.conv1 = nn.Sequential(\n",
    "            nn.Conv2d(\n",
    "                in_channels=1,\n",
    "                out_channels=16,\n",
    "                kernel_size=(2,4),\n",
    "                stride=1,\n",
    "                padding= (1,2)  #([1,2]-1)/2,\n",
    "            ),\n",
    "            nn.ReLU(),\n",
    "            nn.MaxPool2d((2,4))\n",
    "        )\n",
    "        self.conv2 = nn.Sequential(\n",
    "            nn.Conv2d(16, 32, (2,2), stride=1, padding=1),\n",
    "            nn.ReLU(),\n",
    "            nn.MaxPool2d((2, 2))\n",
    "        )\n",
    "        self.fc = nn.Linear(4*8*32, 128)  # 64*2*4\n",
    "        self.out = nn.Linear(128, 2)\n",
    "\n",
    "    def forward(self, x):\n",
    "        x = self.conv1(x)\n",
    "        x = self.conv2(x)\n",
    "        x = x.view(x.size(0), -1)\n",
    "\n",
    "        x = F.relu(self.fc(x))\n",
    "        x = F.dropout(x, 0.2)\n",
    "\n",
    "        output = self.out(x)\n",
    "        return output, x\n",
    "\n",
    "cnn = CNN()\n",
    "cnn.to(device)\n",
    "print(cnn)\n",
    "\n",
    "optimizer = torch.optim.Adam(cnn.parameters(), lr=LR, weight_decay=l2)\n",
    "loss_func = nn.CrossEntropyLoss()\n",
    "\n",
    "best_acc = []\n",
    "best_auc = []"
   ]
  },
  {
   "cell_type": "code",
   "execution_count": 11,
   "id": "bd33562b-5381-4a15-818a-7387e2ee81dd",
   "metadata": {},
   "outputs": [
    {
     "name": "stdout",
     "output_type": "stream",
     "text": [
      "Epoch:  0 |train loss: 0.7175  train ACC: 0.5348 | test loss: 0.7125 test ACC: 0.5000 | AUC: 0.4617\n",
      "Epoch:  10 |train loss: 0.2346  train ACC: 0.9057 | test loss: 0.2821 test ACC: 0.8852 | AUC: 0.9520\n",
      "Epoch:  20 |train loss: 0.1754  train ACC: 0.9283 | test loss: 0.2130 test ACC: 0.9160 | AUC: 0.9731\n",
      "Epoch:  30 |train loss: 0.1472  train ACC: 0.9488 | test loss: 0.2219 test ACC: 0.9078 | AUC: 0.9776\n",
      "Epoch:  40 |train loss: 0.0962  train ACC: 0.9693 | test loss: 0.1483 test ACC: 0.9385 | AUC: 0.9864\n",
      "Epoch:  50 |train loss: 0.0858  train ACC: 0.9754 | test loss: 0.1982 test ACC: 0.9324 | AUC: 0.9828\n",
      "Epoch:  60 |train loss: 0.1086  train ACC: 0.9570 | test loss: 0.1619 test ACC: 0.9283 | AUC: 0.9858\n",
      "Epoch:  70 |train loss: 0.0793  train ACC: 0.9754 | test loss: 0.1480 test ACC: 0.9406 | AUC: 0.9854\n",
      "Epoch:  80 |train loss: 0.0806  train ACC: 0.9754 | test loss: 0.1447 test ACC: 0.9426 | AUC: 0.9865\n",
      "Epoch:  90 |train loss: 0.0649  train ACC: 0.9836 | test loss: 0.1439 test ACC: 0.9406 | AUC: 0.9863\n",
      "Epoch:  100 |train loss: 0.0599  train ACC: 0.9836 | test loss: 0.1457 test ACC: 0.9385 | AUC: 0.9863\n",
      "              precision    recall  f1-score   support\n",
      "\n",
      "         0.0       0.91      0.98      0.94       244\n",
      "         1.0       0.97      0.90      0.94       244\n",
      "\n",
      "    accuracy                           0.94       488\n",
      "   macro avg       0.94      0.94      0.94       488\n",
      "weighted avg       0.94      0.94      0.94       488\n",
      "\n",
      "BEST TEST ACC: 0.9426229508196722, AUC: 0.9865123622682075\n",
      "Total Running Time: 59.25 seconds\n"
     ]
    }
   ],
   "source": [
    "# training and testing\n",
    "start_time = time.perf_counter()\n",
    "for epoch in range(EPOCH):\n",
    "    for step, (train_x, train_y) in enumerate(train_loader):\n",
    "\n",
    "        output = cnn(train_x)[0]  # CNN output of training data\n",
    "        loss = loss_func(output, train_y.long())  # cross entropy loss\n",
    "        optimizer.zero_grad()  # clear gradients for this training step\n",
    "        loss.backward()  # backpropagation, compute gradients\n",
    "        optimizer.step()  # apply gradients\n",
    "\n",
    "    if epoch % 10 == 0:\n",
    "        test_output = cnn(test_fea_norm1)[0]  # CNN output of test data\n",
    "        test_loss = loss_func(test_output, test_label.long())\n",
    "\n",
    "        test_y_score = one_hot(test_label.data.cpu().numpy())  # .cpu() can be removed if your device is cpu.\n",
    "        pred_score = F.softmax(test_output, dim=1).data.cpu().numpy()  # normalize the output\n",
    "        auc_score = roc_auc_score(test_y_score, pred_score)\n",
    "\n",
    "        pred_y = torch.max(test_output, 1)[1].data.cpu().numpy()\n",
    "        pred_train = torch.max(output, 1)[1].data.cpu().numpy()\n",
    "\n",
    "        test_acc = accuracy_score(test_label.data.cpu().numpy(), pred_y)\n",
    "        train_acc = accuracy_score(train_y.data.cpu().numpy(), pred_train)\n",
    "\n",
    "\n",
    "        print('Epoch: ', epoch,  '|train loss: %.4f' % loss.item(),\n",
    "              ' train ACC: %.4f' % train_acc, '| test loss: %.4f' % test_loss.item(),\n",
    "              'test ACC: %.4f' % test_acc, '| AUC: %.4f' % auc_score)\n",
    "        best_acc.append(test_acc)\n",
    "        best_auc.append(auc_score)\n",
    "\n",
    "current_time = time.perf_counter()\n",
    "running_time = current_time - start_time\n",
    "print(classification_report(test_label.data.cpu().numpy(), pred_y))\n",
    "print('BEST TEST ACC: {}, AUC: {}'.format(max(best_acc), max(best_auc)))\n",
    "print(\"Total Running Time: {} seconds\".format(round(running_time, 2)))"
   ]
  },
  {
   "cell_type": "code",
   "execution_count": null,
   "id": "992b42ba-b8fb-4ee5-ba42-7ddcffe7231e",
   "metadata": {},
   "outputs": [],
   "source": []
  }
 ],
 "metadata": {
  "kernelspec": {
   "display_name": "Python 3 (ipykernel)",
   "language": "python",
   "name": "python3"
  },
  "language_info": {
   "codemirror_mode": {
    "name": "ipython",
    "version": 3
   },
   "file_extension": ".py",
   "mimetype": "text/x-python",
   "name": "python",
   "nbconvert_exporter": "python",
   "pygments_lexer": "ipython3",
   "version": "3.8.6"
  }
 },
 "nbformat": 4,
 "nbformat_minor": 5
}
